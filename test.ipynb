{
 "cells": [
  {
   "cell_type": "code",
   "execution_count": 1,
   "id": "cd7c3742",
   "metadata": {},
   "outputs": [],
   "source": [
    "import DSCT_load\n",
    "import DSCT_train"
   ]
  },
  {
   "cell_type": "code",
   "execution_count": 2,
   "id": "85b586f8",
   "metadata": {},
   "outputs": [
    {
     "name": "stdout",
     "output_type": "stream",
     "text": [
      "['AttentionModel', 'DataLoader', 'TensorDataset', '__builtins__', '__cached__', '__doc__', '__file__', '__loader__', '__name__', '__package__', '__spec__', 'anndata', 'cosg', 'fmap_load', 'nn', 'np', 'optim', 'pd', 'random', 'sc', 'torch']\n"
     ]
    }
   ],
   "source": [
    "import DSCT_load\n",
    "print(dir(DSCT_load))\n"
   ]
  },
  {
   "cell_type": "code",
   "execution_count": null,
   "id": "f2c8af81",
   "metadata": {},
   "outputs": [
    {
     "name": "stdout",
     "output_type": "stream",
     "text": [
      "65\n"
     ]
    },
    {
     "name": "stderr",
     "output_type": "stream",
     "text": [
      "/home/zju/miniconda3/envs/tangram-env/lib/python3.8/site-packages/scanpy/preprocessing/_normalization.py:169: UserWarning: Received a view of an AnnData. Making a copy.\n",
      "  view_to_actual(adata)\n",
      "/home/zju/miniconda3/envs/tangram-env/lib/python3.8/site-packages/cosg/cosg.py:115: ImplicitModificationWarning: Trying to modify attribute `._uns` of view, initializing view as actual.\n",
      "  adata.uns[key_added] = {}\n"
     ]
    },
    {
     "name": "stdout",
     "output_type": "stream",
     "text": [
      "**finished identifying marker genes by COSG**\n",
      "Epoch [0/10], Loss: 3.0513\n",
      "Epoch [2/10], Loss: 2.9256\n",
      "Epoch [4/10], Loss: 2.5943\n",
      "Epoch [6/10], Loss: 2.0270\n",
      "Epoch [8/10], Loss: 1.4804\n",
      "941\n"
     ]
    },
    {
     "name": "stderr",
     "output_type": "stream",
     "text": [
      "/data/xyh_desktop/mapping/github_code/DSCT_train.py:52: ImplicitModificationWarning: Trying to modify attribute `.obs` of view, initializing view as actual.\n",
      "  sc_data.obs[\"type_integer\"] = cell_types_integer\n"
     ]
    },
    {
     "name": "stdout",
     "output_type": "stream",
     "text": [
      "Epoch [10/20], Loss: 0.1642, Validation Accuracy: 96.63%\n",
      "Epoch [20/20], Loss: 0.0823, Validation Accuracy: 98.32%\n"
     ]
    },
    {
     "name": "stderr",
     "output_type": "stream",
     "text": [
      "/data/xyh_desktop/mapping/github_code/DSCT_train.py:184: ImplicitModificationWarning: Trying to modify attribute `.obs` of view, initializing view as actual.\n",
      "  st_data.obs['predicted_classes'] = predicted_labels\n"
     ]
    }
   ],
   "source": [
    "## sc_data=diopy.input.read_h5(file = \"E:/doctor/自研/mapping/data/SCT/st_CB4_filter.h5\")#reference\n",
    "import diopy\n",
    "import torch\n",
    "gene_number2=60#183#50#70\n",
    "\n",
    "device = torch.device(\"cuda\" if torch.cuda.is_available() else \"cpu\")\n",
    "\n",
    "for repeat in range(10):\n",
    "    sc_data=diopy.input.read_h5(file = '/data/xyh_desktop/mapping/data/20230814final/h5/sc/sc_HIP.h5')#reference\n",
    "\n",
    "    st_data=diopy.input.read_h5(file = '/data/xyh_desktop/mapping/data/st/cellbin/C2D2_HIP_cellbin_cut.h5')\n",
    "    gene_number2=gene_number2+5#183#50#70\n",
    "    print(gene_number2)\n",
    "    result_save_path=\"/data/xyh_desktop/mapping/github_code/result/C2D2_cellbin_HIP_predictions_\"+str(gene_number2)+\"_seed_\"\n",
    "    anno=\"annotation\"\n",
    "    train_num=20#10\n",
    "    model_save_path=\"/data/xyh_desktop/mapping/github_code/model/\"+str(gene_number2)+\"_\"\n",
    "\n",
    "\n",
    "    num_classes = len(set(sc_data.obs[anno]))\n",
    "\n",
    "    sc_data,st_data=DSCT_load.fmap_load(sc_data,st_data,anno,gene_number2,device)\n",
    "    print(sc_data.n_vars)\n",
    "    DSCT_train.fmap_train(sc_data,st_data,result_save_path,model_save_path,train_num,num_classes,anno,device)\n",
    "\n",
    "# diopy.output.write_h5(sc_data, file = 'E:/doctor/mapping/20230715/final_input/sc_CB.h5')\n",
    "# diopy.output.write_h5(st_data, file = 'E:/doctor/mapping/20230715/final_input/st_CB.h5')"
   ]
  },
  {
   "cell_type": "code",
   "execution_count": null,
   "id": "1945962a",
   "metadata": {},
   "outputs": [],
   "source": []
  }
 ],
 "metadata": {
  "kernelspec": {
   "display_name": "tangram",
   "language": "python",
   "name": "tangram-env"
  },
  "language_info": {
   "codemirror_mode": {
    "name": "ipython",
    "version": 3
   },
   "file_extension": ".py",
   "mimetype": "text/x-python",
   "name": "python",
   "nbconvert_exporter": "python",
   "pygments_lexer": "ipython3",
   "version": "3.8.17"
  }
 },
 "nbformat": 4,
 "nbformat_minor": 5
}
